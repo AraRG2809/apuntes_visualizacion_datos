{
  "nbformat": 4,
  "nbformat_minor": 0,
  "metadata": {
    "colab": {
      "provenance": [],
      "include_colab_link": true
    },
    "kernelspec": {
      "name": "python3",
      "display_name": "Python 3"
    },
    "language_info": {
      "name": "python"
    }
  },
  "cells": [
    {
      "cell_type": "markdown",
      "metadata": {
        "id": "view-in-github",
        "colab_type": "text"
      },
      "source": [
        "<a href=\"https://colab.research.google.com/github/AraRG2809/apuntes_visualizacion_datos/blob/main/ARA_2_1_Dispersi%C3%B3n_Visualization.ipynb\" target=\"_parent\"><img src=\"https://colab.research.google.com/assets/colab-badge.svg\" alt=\"Open In Colab\"/></a>"
      ]
    },
    {
      "cell_type": "code",
      "execution_count": 4,
      "metadata": {
        "id": "DeCI6DvTLsMK"
      },
      "outputs": [],
      "source": [
        "import pandas as pd\n",
        "import numpy as np\n",
        "import matplotlib.pyplot as plt\n"
      ]
    },
    {
      "cell_type": "markdown",
      "source": [
        "Vamos a utilizar un dataframe que contiene datos sobre distintos snacks.\n",
        "\n",
        "Descarga el csv del siguiente enlace: https://drive.google.com/file/d/157OJEm-_2ereGlDk72rASfu9Q-4VdeeY/view?usp=sharing\n",
        "\n",
        "Una vez descargado añádelo al colab para trabajar"
      ],
      "metadata": {
        "id": "Zp37kBE8jnYV"
      }
    },
    {
      "cell_type": "code",
      "source": [
        "\n",
        "candy = pd.read_csv('candy.csv')\n"
      ],
      "metadata": {
        "id": "ZHG1A7lbgkEY"
      },
      "execution_count": 8,
      "outputs": []
    },
    {
      "cell_type": "markdown",
      "source": [
        "Comprueba los 5 primeros elementos de cada dataframe."
      ],
      "metadata": {
        "id": "biyf-ai2d3-r"
      }
    },
    {
      "cell_type": "code",
      "source": [
        "candy.head()"
      ],
      "metadata": {
        "id": "yIFbCYHveHii",
        "colab": {
          "base_uri": "https://localhost:8080/",
          "height": 206
        },
        "outputId": "fae9c9de-4bd0-4163-db04-554682ca160f"
      },
      "execution_count": 9,
      "outputs": [
        {
          "output_type": "execute_result",
          "data": {
            "text/plain": [
              "   id competitorname chocolate fruity caramel peanutyalmondy nougat  \\\n",
              "0   0      100 Grand       Yes     No     Yes             No     No   \n",
              "1   1   3 Musketeers       Yes     No      No             No    Yes   \n",
              "2   2      Air Heads        No    Yes      No             No     No   \n",
              "3   3     Almond Joy       Yes     No      No            Yes     No   \n",
              "4   4      Baby Ruth       Yes     No     Yes            Yes    Yes   \n",
              "\n",
              "  crispedricewafer hard  bar pluribus  sugarpercent  pricepercent  winpercent  \n",
              "0              Yes   No  Yes       No         0.732         0.860   66.971725  \n",
              "1               No   No  Yes       No         0.604         0.511   67.602936  \n",
              "2               No   No   No       No         0.906         0.511   52.341465  \n",
              "3               No   No  Yes       No         0.465         0.767   50.347546  \n",
              "4               No   No  Yes       No         0.604         0.767   56.914547  "
            ],
            "text/html": [
              "\n",
              "  <div id=\"df-b1cfacc5-4aa7-4dcf-880d-8b6211471fea\" class=\"colab-df-container\">\n",
              "    <div>\n",
              "<style scoped>\n",
              "    .dataframe tbody tr th:only-of-type {\n",
              "        vertical-align: middle;\n",
              "    }\n",
              "\n",
              "    .dataframe tbody tr th {\n",
              "        vertical-align: top;\n",
              "    }\n",
              "\n",
              "    .dataframe thead th {\n",
              "        text-align: right;\n",
              "    }\n",
              "</style>\n",
              "<table border=\"1\" class=\"dataframe\">\n",
              "  <thead>\n",
              "    <tr style=\"text-align: right;\">\n",
              "      <th></th>\n",
              "      <th>id</th>\n",
              "      <th>competitorname</th>\n",
              "      <th>chocolate</th>\n",
              "      <th>fruity</th>\n",
              "      <th>caramel</th>\n",
              "      <th>peanutyalmondy</th>\n",
              "      <th>nougat</th>\n",
              "      <th>crispedricewafer</th>\n",
              "      <th>hard</th>\n",
              "      <th>bar</th>\n",
              "      <th>pluribus</th>\n",
              "      <th>sugarpercent</th>\n",
              "      <th>pricepercent</th>\n",
              "      <th>winpercent</th>\n",
              "    </tr>\n",
              "  </thead>\n",
              "  <tbody>\n",
              "    <tr>\n",
              "      <th>0</th>\n",
              "      <td>0</td>\n",
              "      <td>100 Grand</td>\n",
              "      <td>Yes</td>\n",
              "      <td>No</td>\n",
              "      <td>Yes</td>\n",
              "      <td>No</td>\n",
              "      <td>No</td>\n",
              "      <td>Yes</td>\n",
              "      <td>No</td>\n",
              "      <td>Yes</td>\n",
              "      <td>No</td>\n",
              "      <td>0.732</td>\n",
              "      <td>0.860</td>\n",
              "      <td>66.971725</td>\n",
              "    </tr>\n",
              "    <tr>\n",
              "      <th>1</th>\n",
              "      <td>1</td>\n",
              "      <td>3 Musketeers</td>\n",
              "      <td>Yes</td>\n",
              "      <td>No</td>\n",
              "      <td>No</td>\n",
              "      <td>No</td>\n",
              "      <td>Yes</td>\n",
              "      <td>No</td>\n",
              "      <td>No</td>\n",
              "      <td>Yes</td>\n",
              "      <td>No</td>\n",
              "      <td>0.604</td>\n",
              "      <td>0.511</td>\n",
              "      <td>67.602936</td>\n",
              "    </tr>\n",
              "    <tr>\n",
              "      <th>2</th>\n",
              "      <td>2</td>\n",
              "      <td>Air Heads</td>\n",
              "      <td>No</td>\n",
              "      <td>Yes</td>\n",
              "      <td>No</td>\n",
              "      <td>No</td>\n",
              "      <td>No</td>\n",
              "      <td>No</td>\n",
              "      <td>No</td>\n",
              "      <td>No</td>\n",
              "      <td>No</td>\n",
              "      <td>0.906</td>\n",
              "      <td>0.511</td>\n",
              "      <td>52.341465</td>\n",
              "    </tr>\n",
              "    <tr>\n",
              "      <th>3</th>\n",
              "      <td>3</td>\n",
              "      <td>Almond Joy</td>\n",
              "      <td>Yes</td>\n",
              "      <td>No</td>\n",
              "      <td>No</td>\n",
              "      <td>Yes</td>\n",
              "      <td>No</td>\n",
              "      <td>No</td>\n",
              "      <td>No</td>\n",
              "      <td>Yes</td>\n",
              "      <td>No</td>\n",
              "      <td>0.465</td>\n",
              "      <td>0.767</td>\n",
              "      <td>50.347546</td>\n",
              "    </tr>\n",
              "    <tr>\n",
              "      <th>4</th>\n",
              "      <td>4</td>\n",
              "      <td>Baby Ruth</td>\n",
              "      <td>Yes</td>\n",
              "      <td>No</td>\n",
              "      <td>Yes</td>\n",
              "      <td>Yes</td>\n",
              "      <td>Yes</td>\n",
              "      <td>No</td>\n",
              "      <td>No</td>\n",
              "      <td>Yes</td>\n",
              "      <td>No</td>\n",
              "      <td>0.604</td>\n",
              "      <td>0.767</td>\n",
              "      <td>56.914547</td>\n",
              "    </tr>\n",
              "  </tbody>\n",
              "</table>\n",
              "</div>\n",
              "    <div class=\"colab-df-buttons\">\n",
              "\n",
              "  <div class=\"colab-df-container\">\n",
              "    <button class=\"colab-df-convert\" onclick=\"convertToInteractive('df-b1cfacc5-4aa7-4dcf-880d-8b6211471fea')\"\n",
              "            title=\"Convert this dataframe to an interactive table.\"\n",
              "            style=\"display:none;\">\n",
              "\n",
              "  <svg xmlns=\"http://www.w3.org/2000/svg\" height=\"24px\" viewBox=\"0 -960 960 960\">\n",
              "    <path d=\"M120-120v-720h720v720H120Zm60-500h600v-160H180v160Zm220 220h160v-160H400v160Zm0 220h160v-160H400v160ZM180-400h160v-160H180v160Zm440 0h160v-160H620v160ZM180-180h160v-160H180v160Zm440 0h160v-160H620v160Z\"/>\n",
              "  </svg>\n",
              "    </button>\n",
              "\n",
              "  <style>\n",
              "    .colab-df-container {\n",
              "      display:flex;\n",
              "      gap: 12px;\n",
              "    }\n",
              "\n",
              "    .colab-df-convert {\n",
              "      background-color: #E8F0FE;\n",
              "      border: none;\n",
              "      border-radius: 50%;\n",
              "      cursor: pointer;\n",
              "      display: none;\n",
              "      fill: #1967D2;\n",
              "      height: 32px;\n",
              "      padding: 0 0 0 0;\n",
              "      width: 32px;\n",
              "    }\n",
              "\n",
              "    .colab-df-convert:hover {\n",
              "      background-color: #E2EBFA;\n",
              "      box-shadow: 0px 1px 2px rgba(60, 64, 67, 0.3), 0px 1px 3px 1px rgba(60, 64, 67, 0.15);\n",
              "      fill: #174EA6;\n",
              "    }\n",
              "\n",
              "    .colab-df-buttons div {\n",
              "      margin-bottom: 4px;\n",
              "    }\n",
              "\n",
              "    [theme=dark] .colab-df-convert {\n",
              "      background-color: #3B4455;\n",
              "      fill: #D2E3FC;\n",
              "    }\n",
              "\n",
              "    [theme=dark] .colab-df-convert:hover {\n",
              "      background-color: #434B5C;\n",
              "      box-shadow: 0px 1px 3px 1px rgba(0, 0, 0, 0.15);\n",
              "      filter: drop-shadow(0px 1px 2px rgba(0, 0, 0, 0.3));\n",
              "      fill: #FFFFFF;\n",
              "    }\n",
              "  </style>\n",
              "\n",
              "    <script>\n",
              "      const buttonEl =\n",
              "        document.querySelector('#df-b1cfacc5-4aa7-4dcf-880d-8b6211471fea button.colab-df-convert');\n",
              "      buttonEl.style.display =\n",
              "        google.colab.kernel.accessAllowed ? 'block' : 'none';\n",
              "\n",
              "      async function convertToInteractive(key) {\n",
              "        const element = document.querySelector('#df-b1cfacc5-4aa7-4dcf-880d-8b6211471fea');\n",
              "        const dataTable =\n",
              "          await google.colab.kernel.invokeFunction('convertToInteractive',\n",
              "                                                    [key], {});\n",
              "        if (!dataTable) return;\n",
              "\n",
              "        const docLinkHtml = 'Like what you see? Visit the ' +\n",
              "          '<a target=\"_blank\" href=https://colab.research.google.com/notebooks/data_table.ipynb>data table notebook</a>'\n",
              "          + ' to learn more about interactive tables.';\n",
              "        element.innerHTML = '';\n",
              "        dataTable['output_type'] = 'display_data';\n",
              "        await google.colab.output.renderOutput(dataTable, element);\n",
              "        const docLink = document.createElement('div');\n",
              "        docLink.innerHTML = docLinkHtml;\n",
              "        element.appendChild(docLink);\n",
              "      }\n",
              "    </script>\n",
              "  </div>\n",
              "\n",
              "\n",
              "<div id=\"df-1bf7a82f-912f-47f4-8df5-8dfde067a8b0\">\n",
              "  <button class=\"colab-df-quickchart\" onclick=\"quickchart('df-1bf7a82f-912f-47f4-8df5-8dfde067a8b0')\"\n",
              "            title=\"Suggest charts\"\n",
              "            style=\"display:none;\">\n",
              "\n",
              "<svg xmlns=\"http://www.w3.org/2000/svg\" height=\"24px\"viewBox=\"0 0 24 24\"\n",
              "     width=\"24px\">\n",
              "    <g>\n",
              "        <path d=\"M19 3H5c-1.1 0-2 .9-2 2v14c0 1.1.9 2 2 2h14c1.1 0 2-.9 2-2V5c0-1.1-.9-2-2-2zM9 17H7v-7h2v7zm4 0h-2V7h2v10zm4 0h-2v-4h2v4z\"/>\n",
              "    </g>\n",
              "</svg>\n",
              "  </button>\n",
              "\n",
              "<style>\n",
              "  .colab-df-quickchart {\n",
              "      --bg-color: #E8F0FE;\n",
              "      --fill-color: #1967D2;\n",
              "      --hover-bg-color: #E2EBFA;\n",
              "      --hover-fill-color: #174EA6;\n",
              "      --disabled-fill-color: #AAA;\n",
              "      --disabled-bg-color: #DDD;\n",
              "  }\n",
              "\n",
              "  [theme=dark] .colab-df-quickchart {\n",
              "      --bg-color: #3B4455;\n",
              "      --fill-color: #D2E3FC;\n",
              "      --hover-bg-color: #434B5C;\n",
              "      --hover-fill-color: #FFFFFF;\n",
              "      --disabled-bg-color: #3B4455;\n",
              "      --disabled-fill-color: #666;\n",
              "  }\n",
              "\n",
              "  .colab-df-quickchart {\n",
              "    background-color: var(--bg-color);\n",
              "    border: none;\n",
              "    border-radius: 50%;\n",
              "    cursor: pointer;\n",
              "    display: none;\n",
              "    fill: var(--fill-color);\n",
              "    height: 32px;\n",
              "    padding: 0;\n",
              "    width: 32px;\n",
              "  }\n",
              "\n",
              "  .colab-df-quickchart:hover {\n",
              "    background-color: var(--hover-bg-color);\n",
              "    box-shadow: 0 1px 2px rgba(60, 64, 67, 0.3), 0 1px 3px 1px rgba(60, 64, 67, 0.15);\n",
              "    fill: var(--button-hover-fill-color);\n",
              "  }\n",
              "\n",
              "  .colab-df-quickchart-complete:disabled,\n",
              "  .colab-df-quickchart-complete:disabled:hover {\n",
              "    background-color: var(--disabled-bg-color);\n",
              "    fill: var(--disabled-fill-color);\n",
              "    box-shadow: none;\n",
              "  }\n",
              "\n",
              "  .colab-df-spinner {\n",
              "    border: 2px solid var(--fill-color);\n",
              "    border-color: transparent;\n",
              "    border-bottom-color: var(--fill-color);\n",
              "    animation:\n",
              "      spin 1s steps(1) infinite;\n",
              "  }\n",
              "\n",
              "  @keyframes spin {\n",
              "    0% {\n",
              "      border-color: transparent;\n",
              "      border-bottom-color: var(--fill-color);\n",
              "      border-left-color: var(--fill-color);\n",
              "    }\n",
              "    20% {\n",
              "      border-color: transparent;\n",
              "      border-left-color: var(--fill-color);\n",
              "      border-top-color: var(--fill-color);\n",
              "    }\n",
              "    30% {\n",
              "      border-color: transparent;\n",
              "      border-left-color: var(--fill-color);\n",
              "      border-top-color: var(--fill-color);\n",
              "      border-right-color: var(--fill-color);\n",
              "    }\n",
              "    40% {\n",
              "      border-color: transparent;\n",
              "      border-right-color: var(--fill-color);\n",
              "      border-top-color: var(--fill-color);\n",
              "    }\n",
              "    60% {\n",
              "      border-color: transparent;\n",
              "      border-right-color: var(--fill-color);\n",
              "    }\n",
              "    80% {\n",
              "      border-color: transparent;\n",
              "      border-right-color: var(--fill-color);\n",
              "      border-bottom-color: var(--fill-color);\n",
              "    }\n",
              "    90% {\n",
              "      border-color: transparent;\n",
              "      border-bottom-color: var(--fill-color);\n",
              "    }\n",
              "  }\n",
              "</style>\n",
              "\n",
              "  <script>\n",
              "    async function quickchart(key) {\n",
              "      const quickchartButtonEl =\n",
              "        document.querySelector('#' + key + ' button');\n",
              "      quickchartButtonEl.disabled = true;  // To prevent multiple clicks.\n",
              "      quickchartButtonEl.classList.add('colab-df-spinner');\n",
              "      try {\n",
              "        const charts = await google.colab.kernel.invokeFunction(\n",
              "            'suggestCharts', [key], {});\n",
              "      } catch (error) {\n",
              "        console.error('Error during call to suggestCharts:', error);\n",
              "      }\n",
              "      quickchartButtonEl.classList.remove('colab-df-spinner');\n",
              "      quickchartButtonEl.classList.add('colab-df-quickchart-complete');\n",
              "    }\n",
              "    (() => {\n",
              "      let quickchartButtonEl =\n",
              "        document.querySelector('#df-1bf7a82f-912f-47f4-8df5-8dfde067a8b0 button');\n",
              "      quickchartButtonEl.style.display =\n",
              "        google.colab.kernel.accessAllowed ? 'block' : 'none';\n",
              "    })();\n",
              "  </script>\n",
              "</div>\n",
              "\n",
              "    </div>\n",
              "  </div>\n"
            ],
            "application/vnd.google.colaboratory.intrinsic+json": {
              "type": "dataframe",
              "variable_name": "candy",
              "summary": "{\n  \"name\": \"candy\",\n  \"rows\": 83,\n  \"fields\": [\n    {\n      \"column\": \"id\",\n      \"properties\": {\n        \"dtype\": \"number\",\n        \"std\": 24,\n        \"min\": 0,\n        \"max\": 82,\n        \"num_unique_values\": 83,\n        \"samples\": [\n          30,\n          0,\n          22\n        ],\n        \"semantic_type\": \"\",\n        \"description\": \"\"\n      }\n    },\n    {\n      \"column\": \"competitorname\",\n      \"properties\": {\n        \"dtype\": \"string\",\n        \"num_unique_values\": 83,\n        \"samples\": [\n          \"Peanut butter M&M's\",\n          \"100 Grand\",\n          \"Hershey's Milk Chocolate\"\n        ],\n        \"semantic_type\": \"\",\n        \"description\": \"\"\n      }\n    },\n    {\n      \"column\": \"chocolate\",\n      \"properties\": {\n        \"dtype\": \"category\",\n        \"num_unique_values\": 2,\n        \"samples\": [\n          \"No\",\n          \"Yes\"\n        ],\n        \"semantic_type\": \"\",\n        \"description\": \"\"\n      }\n    },\n    {\n      \"column\": \"fruity\",\n      \"properties\": {\n        \"dtype\": \"category\",\n        \"num_unique_values\": 2,\n        \"samples\": [\n          \"Yes\",\n          \"No\"\n        ],\n        \"semantic_type\": \"\",\n        \"description\": \"\"\n      }\n    },\n    {\n      \"column\": \"caramel\",\n      \"properties\": {\n        \"dtype\": \"category\",\n        \"num_unique_values\": 2,\n        \"samples\": [\n          \"No\",\n          \"Yes\"\n        ],\n        \"semantic_type\": \"\",\n        \"description\": \"\"\n      }\n    },\n    {\n      \"column\": \"peanutyalmondy\",\n      \"properties\": {\n        \"dtype\": \"category\",\n        \"num_unique_values\": 2,\n        \"samples\": [\n          \"Yes\",\n          \"No\"\n        ],\n        \"semantic_type\": \"\",\n        \"description\": \"\"\n      }\n    },\n    {\n      \"column\": \"nougat\",\n      \"properties\": {\n        \"dtype\": \"category\",\n        \"num_unique_values\": 2,\n        \"samples\": [\n          \"Yes\",\n          \"No\"\n        ],\n        \"semantic_type\": \"\",\n        \"description\": \"\"\n      }\n    },\n    {\n      \"column\": \"crispedricewafer\",\n      \"properties\": {\n        \"dtype\": \"category\",\n        \"num_unique_values\": 2,\n        \"samples\": [\n          \"No\",\n          \"Yes\"\n        ],\n        \"semantic_type\": \"\",\n        \"description\": \"\"\n      }\n    },\n    {\n      \"column\": \"hard\",\n      \"properties\": {\n        \"dtype\": \"category\",\n        \"num_unique_values\": 2,\n        \"samples\": [\n          \"Yes\",\n          \"No\"\n        ],\n        \"semantic_type\": \"\",\n        \"description\": \"\"\n      }\n    },\n    {\n      \"column\": \"bar\",\n      \"properties\": {\n        \"dtype\": \"category\",\n        \"num_unique_values\": 2,\n        \"samples\": [\n          \"No\",\n          \"Yes\"\n        ],\n        \"semantic_type\": \"\",\n        \"description\": \"\"\n      }\n    },\n    {\n      \"column\": \"pluribus\",\n      \"properties\": {\n        \"dtype\": \"category\",\n        \"num_unique_values\": 2,\n        \"samples\": [\n          \"Yes\",\n          \"No\"\n        ],\n        \"semantic_type\": \"\",\n        \"description\": \"\"\n      }\n    },\n    {\n      \"column\": \"sugarpercent\",\n      \"properties\": {\n        \"dtype\": \"number\",\n        \"std\": 0.27649796541775545,\n        \"min\": 0.034000002,\n        \"max\": 0.98799998,\n        \"num_unique_values\": 33,\n        \"samples\": [\n          0.17399999,\n          0.96499997\n        ],\n        \"semantic_type\": \"\",\n        \"description\": \"\"\n      }\n    },\n    {\n      \"column\": \"pricepercent\",\n      \"properties\": {\n        \"dtype\": \"number\",\n        \"std\": 0.28650321433384623,\n        \"min\": 0.011,\n        \"max\": 0.97600001,\n        \"num_unique_values\": 29,\n        \"samples\": [\n          0.26699999,\n          0.83700001\n        ],\n        \"semantic_type\": \"\",\n        \"description\": \"\"\n      }\n    },\n    {\n      \"column\": \"winpercent\",\n      \"properties\": {\n        \"dtype\": \"number\",\n        \"std\": 14.748880452114998,\n        \"min\": 22.445341,\n        \"max\": 84.18029,\n        \"num_unique_values\": 83,\n        \"samples\": [\n          71.46505,\n          66.971725\n        ],\n        \"semantic_type\": \"\",\n        \"description\": \"\"\n      }\n    }\n  ]\n}"
            }
          },
          "metadata": {},
          "execution_count": 9
        }
      ]
    },
    {
      "cell_type": "markdown",
      "source": [
        "#Ejercicio 1\n",
        "\n",
        "Haz un gráfico de puntos  para comparar el porcentaje de precio y el porcentaje de beneficios entre los snack que tienen fruta y los que no."
      ],
      "metadata": {
        "id": "Gqp4lZu_mWA5"
      }
    },
    {
      "cell_type": "code",
      "source": [
        "plt.scatter(candy[candy['fruity']=='Yes']['pricepercent'], candy[candy['fruity']=='Yes']['winpercent'], alpha=0.5,\n",
        "            c='red')\n",
        "plt.scatter(candy[candy['fruity']=='No']['pricepercent'], candy[candy['fruity']=='No']['winpercent'], alpha=0.5,\n",
        "            c='blue')\n",
        "plt.show()\n"
      ],
      "metadata": {
        "id": "kH0lpTL3yzSl",
        "colab": {
          "base_uri": "https://localhost:8080/",
          "height": 430
        },
        "outputId": "da85edde-71b4-4738-9390-b19af25bf7eb"
      },
      "execution_count": 20,
      "outputs": [
        {
          "output_type": "display_data",
          "data": {
            "text/plain": [
              "<Figure size 640x480 with 1 Axes>"
            ],
            "image/png": "[encoded data removed]"
          },
          "metadata": {}
        }
      ]
    },
    {
      "cell_type": "markdown",
      "source": [
        "Almacena como cadena de texto, en la variable solucion_1, la letra de la afirmación correcta:\n",
        "\n",
        "a) Los snacks con frutas tienen un porcentaje de beneficio mayor que los snack sin frutas\n",
        "\n",
        "b) Los snacks con frutas tienen un porcentaje de beneficio menor que los snack sin frutas\n",
        "\n",
        "c) Los snacks con frutas tienen un porcentaje de beneficio igual que los snack sin frutas"
      ],
      "metadata": {
        "id": "3Jk02Kbre-pH"
      }
    },
    {
      "cell_type": "code",
      "source": [
        "solucion_1='b'"
      ],
      "metadata": {
        "id": "WZ3V-i7FfKZY"
      },
      "execution_count": 28,
      "outputs": []
    },
    {
      "cell_type": "markdown",
      "source": [
        "#Ejercicio 2\n",
        "\n",
        "Comprueba como afecta el chocolate al porcentaje de precio del snackfrente al porcentaje de beneficio, para el tamaño de los puntos utiliza el porcentaje de azucar."
      ],
      "metadata": {
        "id": "-CN1w1AHEUWt"
      }
    },
    {
      "cell_type": "code",
      "source": [
        "plt.scatter(candy[candy['chocolate']=='Yes']['pricepercent'], candy[candy['chocolate']=='Yes']['winpercent'], alpha=0.5,\n",
        "            s=candy[candy['chocolate']=='Yes']['sugarpercent']*100, c='red')\n",
        "plt.scatter(candy[candy['chocolate']=='No']['pricepercent'], candy[candy['chocolate']=='No']['winpercent'], alpha=0.5,\n",
        "            s=candy[candy['chocolate']=='No']['sugarpercent']*100,c='blue')\n",
        "plt.show()"
      ],
      "metadata": {
        "id": "tz0jxAA1ajKS",
        "colab": {
          "base_uri": "https://localhost:8080/",
          "height": 430
        },
        "outputId": "bb9faa33-bb1e-4d7d-83aa-c269c9862648"
      },
      "execution_count": 22,
      "outputs": [
        {
          "output_type": "display_data",
          "data": {
            "text/plain": [
              "<Figure size 640x480 with 1 Axes>"
            ],
            "image/png": "[encoded data removed]"
          },
          "metadata": {}
        }
      ]
    },
    {
      "cell_type": "markdown",
      "source": [
        "Almacena como cadena de texto, en la variable solucion_2, la letra de la afirmación correcta:\n",
        "\n",
        "a) Los snack con chocolate ofrecen mayor beneficio frente a los que no contienen chocolate.\n",
        "\n",
        "b) Los snack con chocolate ofrecen el mismo beneficio frente a los que no contienen chocolate.\n",
        "\n",
        "c) Los snack con chocolate ofrecen menor beneficio frente a los que no contienen chocolate."
      ],
      "metadata": {
        "id": "TejfIqlteXsL"
      }
    },
    {
      "cell_type": "code",
      "source": [
        "solucion_2='a'"
      ],
      "metadata": {
        "id": "RK7PC9CYe5H5"
      },
      "execution_count": 23,
      "outputs": []
    },
    {
      "cell_type": "markdown",
      "source": [
        "#Ejercicio 3\n",
        "\n",
        "Vamos a comprobar la relación entre el ratio del precio y el ratio de beneficio entre los snakcs con nougat y los que no lo contienen"
      ],
      "metadata": {
        "id": "pVvi_ZQhJMsF"
      }
    },
    {
      "cell_type": "code",
      "source": [
        "plt.scatter(candy[candy['nougat']=='Yes']['pricepercent'], candy[candy['nougat']=='Yes']['winpercent'], alpha=0.5,\n",
        "            s=candy[candy['nougat']=='Yes']['sugarpercent']*100, c='red')\n",
        "plt.scatter(candy[candy['nougat']=='No']['pricepercent'], candy[candy['nougat']=='No']['winpercent'], alpha=0.5,\n",
        "            s=candy[candy['nougat']=='No']['sugarpercent']*100,c='blue')\n",
        "plt.show()\n"
      ],
      "metadata": {
        "id": "N3QeKYN6JxhA",
        "colab": {
          "base_uri": "https://localhost:8080/",
          "height": 430
        },
        "outputId": "dac24975-f4b4-4bda-bd82-3b4e1d6e7de1"
      },
      "execution_count": 25,
      "outputs": [
        {
          "output_type": "display_data",
          "data": {
            "text/plain": [
              "<Figure size 640x480 with 1 Axes>"
            ],
            "image/png": "[encoded data removed]"
          },
          "metadata": {}
        }
      ]
    },
    {
      "cell_type": "markdown",
      "source": [
        "Almacena como cadena de texto, en la variable solucion_3, la letra  de la afirmación correcta:\n",
        "\n",
        "a) La mayoría de snacks no contienen nougat\n",
        "\n",
        "b) La mayoría de snacks contienen nougat\n"
      ],
      "metadata": {
        "id": "dIe6jJLwdZ6A"
      }
    },
    {
      "cell_type": "code",
      "source": [
        "solucion_3='a'"
      ],
      "metadata": {
        "id": "OQQs8cILeKn1"
      },
      "execution_count": 26,
      "outputs": []
    },
    {
      "cell_type": "code",
      "source": [
        "#@title Consigue el Token para corregir el ejercicio en Nodd3r\n",
        "import hashlib\n",
        "\n",
        "correct = str(solucion_1)+str(solucion_2)+str(solucion_3)\n",
        "pwd = hashlib.sha256(str(correct).encode())\n",
        "#print('El token para corregir en Nodd3r es:\\n',pwd.hexdigest())\n",
        "if pwd.hexdigest()[0:6] == '665eda':\n",
        "  print('¡Felicidades! puedes avanzar al siguiente modulo \\n El token es: ',pwd.hexdigest())\n",
        "else:\n",
        "  print('Hay algún error en el código o tu forma es diferente a la planteada, pregunta por el foro si no lo ves claro.')"
      ],
      "metadata": {
        "id": "mqxvsE9Mc_fC",
        "colab": {
          "base_uri": "https://localhost:8080/"
        },
        "outputId": "c0b2dd8c-22e2-46e2-b5a2-88e9232ef9cf"
      },
      "execution_count": 29,
      "outputs": [
        {
          "output_type": "stream",
          "name": "stdout",
          "text": [
            "¡Felicidades! puedes avanzar al siguiente modulo \n",
            " El token es:  665edae6d52666d13e3573cc42f6799ca415b87312c3bd0fa37ea44e0de1fe64\n"
          ]
        }
      ]
    }
  ]
}